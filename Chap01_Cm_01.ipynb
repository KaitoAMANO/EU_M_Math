{
  "nbformat": 4,
  "nbformat_minor": 0,
  "metadata": {
    "colab": {
      "provenance": [],
      "authorship_tag": "ABX9TyN9I/ofTzxXtY5e31uumdi8",
      "include_colab_link": true
    },
    "kernelspec": {
      "name": "python3",
      "display_name": "Python 3"
    },
    "language_info": {
      "name": "python"
    }
  },
  "cells": [
    {
      "cell_type": "markdown",
      "metadata": {
        "id": "view-in-github",
        "colab_type": "text"
      },
      "source": [
        "<a href=\"https://colab.research.google.com/github/KaitoAMANO/EU_M_Math/blob/main/Chap01_Cm_01.ipynb\" target=\"_parent\"><img src=\"https://colab.research.google.com/assets/colab-badge.svg\" alt=\"Open In Colab\"/></a>"
      ]
    },
    {
      "cell_type": "code",
      "execution_count": 2,
      "metadata": {
        "colab": {
          "base_uri": "https://localhost:8080/"
        },
        "id": "3KsbWnyNd0SY",
        "outputId": "b114d20f-8bad-4e00-af89-aec00c3f032b"
      },
      "outputs": [
        {
          "output_type": "stream",
          "name": "stdout",
          "text": [
            "2\n",
            "3\n",
            "5\n",
            "7\n"
          ]
        }
      ],
      "source": [
        "for dividend in range(2, 11):\n",
        "    divisor = 2\n",
        "    copied_dividend = dividend\n",
        "    while True:\n",
        "        if copied_dividend % divisor == 0:\n",
        "            copied_dividend //= divisor\n",
        "            if copied_dividend == 1:\n",
        "                print(dividend)\n",
        "            break\n",
        "        divisor += 1"
      ]
    }
  ]
}