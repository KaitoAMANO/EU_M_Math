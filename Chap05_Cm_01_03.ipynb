{
  "nbformat": 4,
  "nbformat_minor": 0,
  "metadata": {
    "colab": {
      "provenance": [],
      "authorship_tag": "ABX9TyMVE4CUsa4Zju/Xcqpm1Gxz",
      "include_colab_link": true
    },
    "kernelspec": {
      "name": "python3",
      "display_name": "Python 3"
    },
    "language_info": {
      "name": "python"
    }
  },
  "cells": [
    {
      "cell_type": "markdown",
      "metadata": {
        "id": "view-in-github",
        "colab_type": "text"
      },
      "source": [
        "<a href=\"https://colab.research.google.com/github/KaitoAMANO/EU_M_Math/blob/main/Chap05_Cm_01_03.ipynb\" target=\"_parent\"><img src=\"https://colab.research.google.com/assets/colab-badge.svg\" alt=\"Open In Colab\"/></a>"
      ]
    },
    {
      "cell_type": "code",
      "execution_count": 4,
      "metadata": {
        "colab": {
          "base_uri": "https://localhost:8080/"
        },
        "id": "S3uc-JeWihbb",
        "outputId": "9f621eb1-2ebb-49b7-973b-8a88d0bdc311"
      },
      "outputs": [
        {
          "output_type": "stream",
          "name": "stdout",
          "text": [
            "[-0.05105105  2.15715716  2.01001001  0.0980981 ]\n",
            "[ 2. 10.  5. 10.]\n",
            "(0.285398163397451, 1.5065093369366904e-08)\n",
            " message: Optimization terminated successfully\n",
            " success: True\n",
            "  status: 0\n",
            "     fun: 1.0\n",
            "       x: [ 0.000e+00]\n",
            "     nit: 2\n",
            "     jac: [ 1.490e-08]\n",
            "    nfev: 5\n",
            "    njev: 2\n",
            "Y: 1.0\n",
            "X: [0.]\n"
          ]
        }
      ],
      "source": [
        "import numpy as np\n",
        "import numpy.random as random\n",
        "import scipy as sp\n",
        "from pandas import Series, DataFrame\n",
        "import matplotlib.pyplot as plt\n",
        "import matplotlib as mpl\n",
        "import seaborn as sns\n",
        "\n",
        "from scipy import interpolate, integrate\n",
        "from scipy.optimize import minimize\n",
        "\n",
        "import math\n",
        "from numpy import cos\n",
        "\n",
        "A = np.array([[5, 1, 0, 1],\n",
        "              [1, 9, -5, 7],\n",
        "              [0, -5, 8, -3],\n",
        "              [1, 7, -3, 10]])\n",
        "b = np.array([2, 10, 5, 10])\n",
        "\n",
        "L = sp.linalg.cholesky(A)\n",
        "\n",
        "t = sp.linalg.solve(L.T.conj(), b)\n",
        "x = sp.linalg.solve(L, t)\n",
        "\n",
        "print(x)\n",
        "\n",
        "print(np.dot(A, x))\n",
        "\n",
        "print(integrate.dblquad(lambda x, y: 1/(np.sqrt(x + y) * (1 + x + y)**2), 0, 1, lambda x: 0, lambda x: 1 - x))\n",
        "\n",
        "def func(x):\n",
        "    return x ** 2 + 1\n",
        "\n",
        "def cons(x):\n",
        "    return (x + 1)\n",
        "\n",
        "cons = (\n",
        "    {'type': 'ineq', 'fun': cons}\n",
        ")\n",
        "\n",
        "x = -10\n",
        "\n",
        "result = minimize(func, x0=x, constraints=cons, method='SLSQP')\n",
        "print(result)\n",
        "\n",
        "print('Y:', result.fun)\n",
        "print('X:', result.x)\n"
      ]
    }
  ]
}