{
  "nbformat": 4,
  "nbformat_minor": 0,
  "metadata": {
    "colab": {
      "provenance": [],
      "authorship_tag": "ABX9TyO0kIR1XgOo1eb/XlVyUr8Z",
      "include_colab_link": true
    },
    "kernelspec": {
      "name": "python3",
      "display_name": "Python 3"
    },
    "language_info": {
      "name": "python"
    }
  },
  "cells": [
    {
      "cell_type": "markdown",
      "metadata": {
        "id": "view-in-github",
        "colab_type": "text"
      },
      "source": [
        "<a href=\"https://colab.research.google.com/github/KaitoAMANO/EU_M_Math/blob/main/Chap04_Cm_01.ipynb\" target=\"_parent\"><img src=\"https://colab.research.google.com/assets/colab-badge.svg\" alt=\"Open In Colab\"/></a>"
      ]
    },
    {
      "cell_type": "code",
      "execution_count": 4,
      "metadata": {
        "colab": {
          "base_uri": "https://localhost:8080/"
        },
        "id": "HE-sHxTfbzuU",
        "outputId": "d3f93540-04cb-46d6-fa69-ff1c9a47b1b1"
      },
      "outputs": [
        {
          "output_type": "stream",
          "name": "stdout",
          "text": [
            "数学の欠席数平均： 5.319371727748691\n",
            "ポルトガル語の欠席平均： 3.6727748691099475\n",
            "p値 = 2.3441656888384195e-06\n",
            "数学の勉強時間平均： 2.0340314136125652\n",
            "ポルトガル語の勉強時間平均： 2.0392670157068062\n",
            "p値 = 0.5643842756976525\n"
          ]
        }
      ],
      "source": [
        "import pandas as pd\n",
        "\n",
        "student_data_math = pd.read_csv('student-mat.csv', sep=';')\n",
        "student_data_por = pd.read_csv('student-por.csv', sep=';')\n",
        "student_data_merge = pd.merge(student_data_math, student_data_por, on=['school', 'sex', 'age', 'address', 'famsize', 'Pstatus', 'Medu', 'Fedu', 'Mjob', 'Fjob', 'reason', 'nursery', 'internet'], how='inner', suffixes=('_math', '_por'))\n",
        "\n",
        "from scipy import stats\n",
        "\n",
        "print('数学の欠席数平均：', student_data_merge.absences_math.mean())\n",
        "print('ポルトガル語の欠席平均：', student_data_merge.absences_por.mean())\n",
        "\n",
        "t, p = stats.ttest_rel(student_data_merge.absences_math, student_data_merge.absences_por)\n",
        "print('p値 =',p)\n",
        "\n",
        "print('数学の勉強時間平均：', student_data_merge.studytime_math.mean())\n",
        "print('ポルトガル語の勉強時間平均：', student_data_merge.studytime_por.mean())\n",
        "\n",
        "t, p = stats.ttest_rel(student_data_merge.studytime_math, student_data_merge.studytime_por)\n",
        "print('p値 =',p)\n"
      ]
    }
  ]
}