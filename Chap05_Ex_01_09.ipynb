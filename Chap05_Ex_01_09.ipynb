{
  "nbformat": 4,
  "nbformat_minor": 0,
  "metadata": {
    "colab": {
      "provenance": [],
      "authorship_tag": "ABX9TyPE6cOc82VXhsXB6nixcKED",
      "include_colab_link": true
    },
    "kernelspec": {
      "name": "python3",
      "display_name": "Python 3"
    },
    "language_info": {
      "name": "python"
    }
  },
  "cells": [
    {
      "cell_type": "markdown",
      "metadata": {
        "id": "view-in-github",
        "colab_type": "text"
      },
      "source": [
        "<a href=\"https://colab.research.google.com/github/KaitoAMANO/EU_M_Math/blob/main/Chap05_Ex_01_09.ipynb\" target=\"_parent\"><img src=\"https://colab.research.google.com/assets/colab-badge.svg\" alt=\"Open In Colab\"/></a>"
      ]
    },
    {
      "cell_type": "code",
      "execution_count": 1,
      "metadata": {
        "colab": {
          "base_uri": "https://localhost:8080/"
        },
        "id": "RRPDU-w2Xz-6",
        "outputId": "f4eabbdb-9a7c-49e8-d1c0-e311cb8e99ee"
      },
      "outputs": [
        {
          "output_type": "stream",
          "name": "stdout",
          "text": [
            "['a' 'b' 'c' 'd' 'a']\n",
            "[[ 1.76405235  0.40015721  0.97873798  2.2408932   1.86755799]\n",
            " [-0.97727788  0.95008842 -0.15135721 -0.10321885  0.4105985 ]\n",
            " [ 0.14404357  1.45427351  0.76103773  0.12167502  0.44386323]\n",
            " [ 0.33367433  1.49407907 -0.20515826  0.3130677  -0.85409574]\n",
            " [-2.55298982  0.6536186   0.8644362  -0.74216502  2.26975462]]\n",
            "[[-0.97727788  0.95008842 -0.15135721 -0.10321885  0.4105985 ]]\n",
            "[[ 1.76405235  0.40015721  0.97873798  2.2408932   1.86755799]\n",
            " [-0.97727788  0.95008842 -0.15135721 -0.10321885  0.4105985 ]\n",
            " [ 0.33367433  1.49407907 -0.20515826  0.3130677  -0.85409574]\n",
            " [-2.55298982  0.6536186   0.8644362  -0.74216502  2.26975462]]\n",
            "[ 6  7  3  4 10]\n",
            "[[0.         1.         1.41421356 1.73205081]\n",
            " [2.         2.23606798 2.44948974 2.64575131]\n",
            " [2.82842712 3.         3.16227766 3.31662479]\n",
            " [3.46410162 3.60555128 3.74165739 3.87298335]]\n",
            "最大値： 15\n",
            "最小値： 0\n",
            "合計値： 120\n",
            "平均値： 7.5\n",
            "対角成分の和： 30\n",
            "[[ 0  1  2  3]\n",
            " [ 4  5  6  7]\n",
            " [ 8  9 10 11]\n",
            " [ 0  1  2  3]\n",
            " [ 4  5  6  7]\n",
            " [ 8  9 10 11]]\n",
            "[[ 0  1  2  3  0  1  2  3]\n",
            " [ 4  5  6  7  4  5  6  7]\n",
            " [ 8  9 10 11  8  9 10 11]]\n",
            "[4 5 6 7 8]\n"
          ]
        }
      ],
      "source": [
        "import numpy as np\n",
        "import numpy.random as random\n",
        "import scipy as sp\n",
        "from pandas import Series, DataFrame\n",
        "import matplotlib.pyplot as plt\n",
        "import matplotlib as mpl\n",
        "import seaborn as sns\n",
        "\n",
        "sample_names = np.array(['a', 'b', 'c', 'd', 'a'])\n",
        "random.seed(0)\n",
        "data = random.randn(5, 5)\n",
        "\n",
        "print(sample_names)\n",
        "print(data)\n",
        "\n",
        "print(data[sample_names == 'b'])\n",
        "\n",
        "print(data[sample_names != 'c'])\n",
        "\n",
        "x_array = np.array([1, 2, 3, 4, 5])\n",
        "y_array = np.array([6, 7, 8, 9, 10])\n",
        "\n",
        "cond_data = np.array([False, False, True, True, False])\n",
        "\n",
        "print(np.where(cond_data, x_array, y_array))\n",
        "\n",
        "sample_multi_array_data2 = np.arange(16).reshape(4, 4)\n",
        "\n",
        "print(np.sqrt(sample_multi_array_data2))\n",
        "\n",
        "print('最大値：', sample_multi_array_data2.max())\n",
        "print('最小値：', sample_multi_array_data2.min())\n",
        "print('合計値：', sample_multi_array_data2.sum())\n",
        "print('平均値：', sample_multi_array_data2.mean())\n",
        "\n",
        "print('対角成分の和：', np.trace(sample_multi_array_data2))\n",
        "\n",
        "sample_array1, sample_array2 = np.arange(12).reshape(3, 4), np.arange(12).reshape(3, 4)\n",
        "\n",
        "print(np.concatenate([sample_array1, sample_array2]))\n",
        "\n",
        "print(np.concatenate([sample_array1, sample_array2], axis=1))\n",
        "\n",
        "sample_list = [1, 2, 3, 4, 5]\n",
        "\n",
        "print(np.array(sample_list) + 3)"
      ]
    }
  ]
}