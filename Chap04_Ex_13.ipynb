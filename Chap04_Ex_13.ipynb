{
  "nbformat": 4,
  "nbformat_minor": 0,
  "metadata": {
    "colab": {
      "provenance": [],
      "authorship_tag": "ABX9TyPHtLKGCAwujbyCK6YMHCMh",
      "include_colab_link": true
    },
    "kernelspec": {
      "name": "python3",
      "display_name": "Python 3"
    },
    "language_info": {
      "name": "python"
    }
  },
  "cells": [
    {
      "cell_type": "markdown",
      "metadata": {
        "id": "view-in-github",
        "colab_type": "text"
      },
      "source": [
        "<a href=\"https://colab.research.google.com/github/KaitoAMANO/EU_M_Math/blob/main/Chap04_Ex_13.ipynb\" target=\"_parent\"><img src=\"https://colab.research.google.com/assets/colab-badge.svg\" alt=\"Open In Colab\"/></a>"
      ]
    },
    {
      "cell_type": "code",
      "execution_count": 4,
      "metadata": {
        "colab": {
          "base_uri": "https://localhost:8080/"
        },
        "id": "Lq0NOInoYVCB",
        "outputId": "3b673082-7dc8-4171-bca0-06ec45558f11"
      },
      "outputs": [
        {
          "output_type": "stream",
          "name": "stdout",
          "text": [
            "G2数学の成績平均： 10.712041884816754\n",
            "G2ポルトガル語の成績平均： 12.238219895287958\n",
            "p値 = 4.0622824801348625e-19\n",
            "G3数学の成績平均： 10.387434554973822\n",
            "G3ポルトガル語の成績平均： 12.515706806282722\n",
            "p値 = 5.561492113688385e-21\n"
          ]
        }
      ],
      "source": [
        "import pandas as pd\n",
        "\n",
        "student_data_math = pd.read_csv('student-mat.csv', sep=';')\n",
        "student_data_por = pd.read_csv('student-por.csv', sep=';')\n",
        "student_data_merge = pd.merge(student_data_math, student_data_por, on=['school', 'sex', 'age', 'address', 'famsize', 'Pstatus', 'Medu', 'Fedu', 'Mjob', 'Fjob', 'reason', 'nursery', 'internet'], how='inner', suffixes=('_math', '_por'))\n",
        "\n",
        "from scipy import stats\n",
        "\n",
        "print('G2数学の成績平均：', student_data_merge.G2_math.mean())\n",
        "print('G2ポルトガル語の成績平均：', student_data_merge.G2_por.mean())\n",
        "\n",
        "t, p = stats.ttest_rel(student_data_merge.G2_math, student_data_merge.G2_por)\n",
        "print('p値 =',p)\n",
        "\n",
        "print('G3数学の成績平均：', student_data_merge.G3_math.mean())\n",
        "print('G3ポルトガル語の成績平均：', student_data_merge.G3_por.mean())\n",
        "\n",
        "t, p = stats.ttest_rel(student_data_merge.G3_math, student_data_merge.G3_por)\n",
        "print('p値 =',p)"
      ]
    }
  ]
}