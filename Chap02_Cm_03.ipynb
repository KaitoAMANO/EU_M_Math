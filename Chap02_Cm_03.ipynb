{
  "nbformat": 4,
  "nbformat_minor": 0,
  "metadata": {
    "colab": {
      "provenance": [],
      "authorship_tag": "ABX9TyNDTXQ6DrAjQNrDPbuCuuYn",
      "include_colab_link": true
    },
    "kernelspec": {
      "name": "python3",
      "display_name": "Python 3"
    },
    "language_info": {
      "name": "python"
    }
  },
  "cells": [
    {
      "cell_type": "markdown",
      "metadata": {
        "id": "view-in-github",
        "colab_type": "text"
      },
      "source": [
        "<a href=\"https://colab.research.google.com/github/KaitoAMANO/EU_M_Math/blob/main/Chap02_Cm_03.ipynb\" target=\"_parent\"><img src=\"https://colab.research.google.com/assets/colab-badge.svg\" alt=\"Open In Colab\"/></a>"
      ]
    },
    {
      "cell_type": "code",
      "execution_count": null,
      "metadata": {
        "id": "x6m3UqlcEcvM"
      },
      "outputs": [],
      "source": [
        "import numpy as np\n",
        "import math\n",
        "\n",
        "x = np.random.uniform(0.0, 1.0, 10000)\n",
        "y = np.random.uniform(0.0, 1.0, 10000)\n",
        "\n",
        "total = 0\n",
        "\n",
        "for i in range(10000):\n",
        "    if math.hypot(x[i], y[i]) < 1:\n",
        "        total += 1\n",
        "\n",
        "print(total / 10000 * 4)"
      ]
    }
  ]
}