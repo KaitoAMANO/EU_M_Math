{
  "nbformat": 4,
  "nbformat_minor": 0,
  "metadata": {
    "colab": {
      "provenance": [],
      "authorship_tag": "ABX9TyPLli0PRZiH/Wu3Bvg7Xcgo",
      "include_colab_link": true
    },
    "kernelspec": {
      "name": "python3",
      "display_name": "Python 3"
    },
    "language_info": {
      "name": "python"
    }
  },
  "cells": [
    {
      "cell_type": "markdown",
      "metadata": {
        "id": "view-in-github",
        "colab_type": "text"
      },
      "source": [
        "<a href=\"https://colab.research.google.com/github/KaitoAMANO/EU_M_Math/blob/main/Chap01_Cm_02.ipynb\" target=\"_parent\"><img src=\"https://colab.research.google.com/assets/colab-badge.svg\" alt=\"Open In Colab\"/></a>"
      ]
    },
    {
      "cell_type": "code",
      "execution_count": 2,
      "metadata": {
        "colab": {
          "base_uri": "https://localhost:8080/"
        },
        "id": "EiV-FtRtrEpF",
        "outputId": "7286275b-a0e7-4e5f-b4a7-268e6aee15ce"
      },
      "outputs": [
        {
          "output_type": "stream",
          "name": "stdout",
          "text": [
            "50までの素数\n",
            "2\n",
            "3\n",
            "5\n",
            "7\n",
            "11\n",
            "13\n",
            "17\n",
            "19\n",
            "23\n",
            "29\n",
            "31\n",
            "37\n",
            "41\n",
            "43\n",
            "47\n"
          ]
        }
      ],
      "source": [
        "def prime_number(N):\n",
        "    print(f\"{N}までの素数\")\n",
        "    for dividend in range(2, N + 1):\n",
        "        divisor = 2\n",
        "        copied_dividend = dividend\n",
        "        while True:\n",
        "            if copied_dividend % divisor == 0:\n",
        "                copied_dividend //= divisor\n",
        "                if copied_dividend == 1:\n",
        "                    print(dividend)\n",
        "                break\n",
        "            divisor += 1\n",
        "\n",
        "prime_number(50)"
      ]
    }
  ]
}